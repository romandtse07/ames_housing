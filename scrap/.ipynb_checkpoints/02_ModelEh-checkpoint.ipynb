{
 "cells": [
  {
   "cell_type": "markdown",
   "metadata": {},
   "source": [
    "# Aimes, Iowa Housing Data: Preprocessing and Model Fitting (Automated Selection, Lasso Regression)"
   ]
  },
  {
   "cell_type": "markdown",
   "metadata": {},
   "source": [
    "We now look at the results of throwing in all terms and using Lasso regression."
   ]
  },
  {
   "cell_type": "code",
   "execution_count": 1,
   "metadata": {},
   "outputs": [],
   "source": [
    "import pandas as pd\n",
    "import numpy as np\n",
    "\n",
    "from sklearn.model_selection import train_test_split, cross_val_score\n",
    "from sklearn.preprocessing import StandardScaler\n",
    "from sklearn.linear_model import LassoCV\n",
    "import patsy\n",
    "from sklearn.metrics import mean_squared_error\n",
    "from functools import reduce\n",
    "\n",
    "import pickle"
   ]
  },
  {
   "cell_type": "code",
   "execution_count": 2,
   "metadata": {},
   "outputs": [],
   "source": [
    "fileObj = open('./pickles/housingDF.pkl', 'rb')\n",
    "housing = pickle.load(fileObj)\n",
    "fileObj.close()"
   ]
  },
  {
   "cell_type": "markdown",
   "metadata": {},
   "source": [
    "The predictors of this model will simply be every column and dummy applicable."
   ]
  },
  {
   "cell_type": "code",
   "execution_count": 3,
   "metadata": {},
   "outputs": [],
   "source": [
    "terms = reduce((lambda x,y: x + ' + ' + y),housing.drop('SalePrice', axis=1).columns)\n",
    "formula = f'SalePrice ~ {terms} - 1'\n",
    "y, x = patsy.dmatrices(formula, housing)\n",
    "x = pd.DataFrame(x, columns=x.design_info.column_names)"
   ]
  },
  {
   "cell_type": "code",
   "execution_count": 16,
   "metadata": {},
   "outputs": [],
   "source": [
    "model = LassoCV(n_alphas=100, cv=10)\n",
    "xtrain, xtest, ytrain, ytest = train_test_split(x, y, test_size=0.3, shuffle=True)\n",
    "\n",
    "scaler = StandardScaler()\n",
    "xtrain = scaler.fit_transform(xtrain)\n",
    "xtest = scaler.transform(xtest)\n",
    "ytrain = ytrain.ravel()\n",
    "ytest = ytest.ravel()"
   ]
  },
  {
   "cell_type": "code",
   "execution_count": 17,
   "metadata": {},
   "outputs": [
    {
     "data": {
      "text/plain": [
       "(0.9403174798810787, 0.9172900489195338)"
      ]
     },
     "execution_count": 17,
     "metadata": {},
     "output_type": "execute_result"
    }
   ],
   "source": [
    "model.fit(xtrain, ytrain)\n",
    "model.score(xtrain, ytrain), model.score(xtest, ytest)"
   ]
  },
  {
   "cell_type": "code",
   "execution_count": 18,
   "metadata": {},
   "outputs": [
    {
     "data": {
      "text/plain": [
       "22905.593339767503"
      ]
     },
     "execution_count": 18,
     "metadata": {},
     "output_type": "execute_result"
    }
   ],
   "source": [
    "mean_squared_error(ytest, model.predict(xtest))**0.5"
   ]
  },
  {
   "cell_type": "markdown",
   "metadata": {},
   "source": [
    "This model performs much better, having access to more information.  We can confirm some of the more important terms here."
   ]
  },
  {
   "cell_type": "code",
   "execution_count": 19,
   "metadata": {},
   "outputs": [
    {
     "data": {
      "text/plain": [
       "GrLivArea                  26353.427553\n",
       "OverallQual                10292.930145\n",
       "KitchenQual[T.TA]           9485.737516\n",
       "TotalBsmtSF                 8929.059912\n",
       "KitchenQual[T.Gd]           8820.803876\n",
       "ExterQual[T.TA]             8308.980146\n",
       "YearBuilt                   8168.921848\n",
       "BsmtFinSF1                  7814.613651\n",
       "ExterQual[T.Gd]             6990.235406\n",
       "Neighborhood[T.StoneBr]     6169.821477\n",
       "LotArea                     6038.204565\n",
       "OverallCond                 6012.439953\n",
       "BsmtQual[T.Ex]              5700.814160\n",
       "Neighborhood[T.NridgHt]     5464.955813\n",
       "MasVnrArea                  5297.016205\n",
       "GarageArea                  5179.195799\n",
       "BsmtExposure[T.Gd]          4008.593197\n",
       "Neighborhood[T.NoRidge]     3709.762650\n",
       "SaleType[T.New]             3586.626501\n",
       "Functional[T.Typ]           3445.637161\n",
       "dtype: float64"
      ]
     },
     "execution_count": 19,
     "metadata": {},
     "output_type": "execute_result"
    }
   ],
   "source": [
    "pd.Series(model.coef_, index=x.columns).abs().sort_values(ascending=False)[:20]"
   ]
  },
  {
   "cell_type": "code",
   "execution_count": 20,
   "metadata": {},
   "outputs": [
    {
     "data": {
      "text/plain": [
       "(0.9193652215978899, 0.017492518367827052)"
      ]
     },
     "execution_count": 20,
     "metadata": {},
     "output_type": "execute_result"
    }
   ],
   "source": [
    "scores = cross_val_score(model, xtrain, ytrain.ravel(), cv=10)\n",
    "np.mean(scores), np.std(scores)"
   ]
  },
  {
   "cell_type": "markdown",
   "metadata": {},
   "source": [
    "We can try and see if adding interactions I think are relevant might improve the score."
   ]
  },
  {
   "cell_type": "code",
   "execution_count": 21,
   "metadata": {},
   "outputs": [],
   "source": [
    "interactions = 'GrLivArea:OverallQual'\n",
    "formula = f'SalePrice ~ {terms} + {interactions} - 1'\n",
    "y, x = patsy.dmatrices(formula, housing)\n",
    "x = pd.DataFrame(x, columns=x.design_info.column_names)"
   ]
  },
  {
   "cell_type": "code",
   "execution_count": 25,
   "metadata": {},
   "outputs": [],
   "source": [
    "model = LassoCV(n_alphas=100, cv=10)\n",
    "xtrain, xtest, ytrain, ytest = train_test_split(x, y, test_size=0.3, shuffle=True)\n",
    "\n",
    "scaler = StandardScaler()\n",
    "xtrain = scaler.fit_transform(xtrain)\n",
    "xtest = scaler.transform(xtest)"
   ]
  },
  {
   "cell_type": "code",
   "execution_count": 29,
   "metadata": {},
   "outputs": [
    {
     "data": {
      "text/plain": [
       "(0.9483806818554631, 0.921052054879546)"
      ]
     },
     "execution_count": 29,
     "metadata": {},
     "output_type": "execute_result"
    }
   ],
   "source": [
    "model.fit(xtrain, ytrain.ravel())\n",
    "model.score(xtrain, ytrain), model.score(xtest, ytest)"
   ]
  },
  {
   "cell_type": "code",
   "execution_count": 27,
   "metadata": {},
   "outputs": [
    {
     "data": {
      "text/plain": [
       "(0.922529021226018, 0.01649240846022595)"
      ]
     },
     "execution_count": 27,
     "metadata": {},
     "output_type": "execute_result"
    }
   ],
   "source": [
    "scores = cross_val_score(model, xtrain, ytrain.ravel(), cv=10)\n",
    "np.mean(scores), np.std(scores)"
   ]
  },
  {
   "cell_type": "markdown",
   "metadata": {},
   "source": [
    "No change on a scale we would care about."
   ]
  }
 ],
 "metadata": {
  "kernelspec": {
   "display_name": "Python 3",
   "language": "python",
   "name": "python3"
  },
  "language_info": {
   "codemirror_mode": {
    "name": "ipython",
    "version": 3
   },
   "file_extension": ".py",
   "mimetype": "text/x-python",
   "name": "python",
   "nbconvert_exporter": "python",
   "pygments_lexer": "ipython3",
   "version": "3.6.5"
  }
 },
 "nbformat": 4,
 "nbformat_minor": 2
}
