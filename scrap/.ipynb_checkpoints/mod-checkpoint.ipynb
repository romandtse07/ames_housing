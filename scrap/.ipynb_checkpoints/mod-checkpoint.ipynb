{
 "cells": [
  {
   "cell_type": "code",
   "execution_count": 637,
   "metadata": {},
   "outputs": [],
   "source": [
    "import pandas as pd\n",
    "import numpy as np\n",
    "\n",
    "from sklearn.feature_selection import SelectKBest, VarianceThreshold\n",
    "from sklearn.model_selection import train_test_split, cross_val_score\n",
    "from sklearn.preprocessing import PolynomialFeatures, StandardScaler\n",
    "from sklearn.linear_model import LinearRegression, LassoCV, RidgeCV\n",
    "import patsy\n",
    "from sklearn.metrics import mean_squared_error\n",
    "from functools import reduce\n",
    "\n",
    "import pickle"
   ]
  },
  {
   "cell_type": "code",
   "execution_count": 638,
   "metadata": {},
   "outputs": [],
   "source": [
    "fileObj = open('./data_and_pickles/housingDF', 'rb')\n",
    "housing = pickle.load(fileObj)\n",
    "fileObj.close()"
   ]
  },
  {
   "cell_type": "code",
   "execution_count": 92,
   "metadata": {},
   "outputs": [],
   "source": [
    "areas = []\n",
    "\n",
    "for column in housing.columns:\n",
    "    if 'SF' in column or 'area' in column.lower() and column != 'GrLivArea':\n",
    "        areas.append(column)"
   ]
  },
  {
   "cell_type": "code",
   "execution_count": 93,
   "metadata": {},
   "outputs": [],
   "source": [
    "terms = reduce((lambda x,y: x+y),[column + ' + ' for column in housing\\\n",
    "                                  .drop(['SalePrice', 'OverallQual', 'GrLivArea'], axis=1).columns])[:-3]"
   ]
  },
  {
   "cell_type": "code",
   "execution_count": 260,
   "metadata": {},
   "outputs": [],
   "source": [
    "terms='GrLivArea + OverallQual + BldgType'"
   ]
  },
  {
   "cell_type": "code",
   "execution_count": 1235,
   "metadata": {},
   "outputs": [],
   "source": [
    "terms=reduce((lambda x,y: x + \" + \" + y), ['GrLivArea', 'ExterQual', 'OverallQual', 'YearBuilt', 'BsmtQual', 'GarageCars', 'MSSubClass', 'KitchenQual', 'BsmtFullBath', 'OverallCond'])"
   ]
  },
  {
   "cell_type": "code",
   "execution_count": 1495,
   "metadata": {},
   "outputs": [],
   "source": [
    "interactions = 'GrLivArea*OverallQual'\n",
    "formula = f'SalePrice ~ {interactions} - 1'\n",
    "y, x = patsy.dmatrices(formula, housing)\n",
    "x = pd.DataFrame(x, columns=x.design_info.column_names)"
   ]
  },
  {
   "cell_type": "code",
   "execution_count": 1496,
   "metadata": {},
   "outputs": [],
   "source": [
    "model = LinearRegression()\n",
    "#model = LassoCV(n_alphas=100, cv=10)\n",
    "#model = RidgeCV(alphas=np.logspace(0,5,100), cv=10)\n",
    "xtrain, xtest, ytrain, ytest = train_test_split(x, y, test_size=0.2, shuffle=True)\n",
    "\n",
    "scaler = StandardScaler()\n",
    "xtrain = scaler.fit_transform(xtrain)\n",
    "xtest = scaler.transform(xtest)"
   ]
  },
  {
   "cell_type": "code",
   "execution_count": 1497,
   "metadata": {},
   "outputs": [
    {
     "data": {
      "text/plain": [
       "(0.7945248545324674, 0.8032544984668228)"
      ]
     },
     "execution_count": 1497,
     "metadata": {},
     "output_type": "execute_result"
    }
   ],
   "source": [
    "model.fit(xtrain, ytrain)\n",
    "model.score(xtrain, ytrain), model.score(xtest, ytest)"
   ]
  },
  {
   "cell_type": "code",
   "execution_count": 1498,
   "metadata": {},
   "outputs": [
    {
     "data": {
      "text/plain": [
       "32527.741770136257"
      ]
     },
     "execution_count": 1498,
     "metadata": {},
     "output_type": "execute_result"
    }
   ],
   "source": [
    "mean_squared_error(ytest, model.predict(xtest))**0.5"
   ]
  },
  {
   "cell_type": "code",
   "execution_count": 1358,
   "metadata": {},
   "outputs": [
    {
     "data": {
      "text/plain": [
       "GrLivArea:OverallQual:Neighborhood[NridgHt]    4.964283e+04\n",
       "GrLivArea:OverallQual:Neighborhood[Somerst]    3.576124e+04\n",
       "GrLivArea:OverallQual:Neighborhood[CollgCr]    3.201053e+04\n",
       "GrLivArea:OverallQual:Neighborhood[NoRidge]    3.137088e+04\n",
       "GrLivArea:OverallQual:Neighborhood[StoneBr]    2.689788e+04\n",
       "GrLivArea:OverallQual:Neighborhood[Crawfor]    2.525431e+04\n",
       "GrLivArea:OverallQual:Neighborhood[NAmes]      2.476419e+04\n",
       "GrLivArea:OverallQual:Neighborhood[Gilbert]    2.472528e+04\n",
       "GrLivArea:OverallQual:Neighborhood[SawyerW]    2.335992e+04\n",
       "GrLivArea:OverallQual:Neighborhood[NWAmes]     2.241516e+04\n",
       "GrLivArea:OverallQual:Neighborhood[Timber]     2.059885e+04\n",
       "GrLivArea:OverallQual:Neighborhood[Edwards]    1.800790e+04\n",
       "GrLivArea:OverallQual:Neighborhood[Mitchel]    1.635809e+04\n",
       "GrLivArea:OverallQual:Neighborhood[ClearCr]    1.604293e+04\n",
       "TotalBsmtSF                                    1.513387e+04\n",
       "GrLivArea:OverallQual:Neighborhood[OldTown]    1.464573e+04\n",
       "GrLivArea:OverallQual:Neighborhood[Veenker]    1.412884e+04\n",
       "GrLivArea:OverallQual:Neighborhood[Sawyer]     1.262447e+04\n",
       "GrLivArea:OverallQual:Neighborhood[Blmngtn]    1.213840e+04\n",
       "GrLivArea:OverallQual:Neighborhood[BrkSide]    1.006204e+04\n",
       "GrLivArea:OverallQual:Neighborhood[GrnHill]    9.178310e+03\n",
       "GrLivArea:OverallQual:Neighborhood[SWISU]      8.299789e+03\n",
       "GrLivArea:OverallQual:Neighborhood[IDOTRR]     7.890761e+03\n",
       "GrLivArea:OverallQual:Neighborhood[NPkVill]    6.029949e+03\n",
       "GrLivArea:OverallQual:Neighborhood[Blueste]    5.215434e+03\n",
       "GrLivArea:OverallQual:Neighborhood[MeadowV]    4.166248e+03\n",
       "GrLivArea:OverallQual:Neighborhood[Greens]     3.602147e+03\n",
       "GrLivArea:OverallQual:Neighborhood[BrDale]     2.739569e+03\n",
       "GrLivArea:OverallQual:Neighborhood[Landmrk]   -1.182343e-11\n",
       "dtype: float64"
      ]
     },
     "execution_count": 1358,
     "metadata": {},
     "output_type": "execute_result"
    }
   ],
   "source": [
    "pd.Series(model.coef_[0], index=x.columns).sort_values(ascending=False)"
   ]
  },
  {
   "cell_type": "code",
   "execution_count": 1290,
   "metadata": {},
   "outputs": [
    {
     "data": {
      "text/plain": [
       "(0.7611758748097944, 0.041376457121195524)"
      ]
     },
     "execution_count": 1290,
     "metadata": {},
     "output_type": "execute_result"
    }
   ],
   "source": [
    "scores = cross_val_score(model, xtrain, ytrain.ravel(), cv=10)\n",
    "np.mean(scores), np.std(scores)"
   ]
  },
  {
   "cell_type": "code",
   "execution_count": null,
   "metadata": {},
   "outputs": [],
   "source": []
  }
 ],
 "metadata": {
  "kernelspec": {
   "display_name": "Python 3",
   "language": "python",
   "name": "python3"
  },
  "language_info": {
   "codemirror_mode": {
    "name": "ipython",
    "version": 3
   },
   "file_extension": ".py",
   "mimetype": "text/x-python",
   "name": "python",
   "nbconvert_exporter": "python",
   "pygments_lexer": "ipython3",
   "version": "3.6.5"
  }
 },
 "nbformat": 4,
 "nbformat_minor": 2
}
