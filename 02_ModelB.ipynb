{
 "cells": [
  {
   "cell_type": "markdown",
   "metadata": {},
   "source": [
    "# Aimes, Iowa Housing Data: Preprocessing, Model Fitting and Analysis (All Terms, Lasso Regression)"
   ]
  },
  {
   "cell_type": "markdown",
   "metadata": {},
   "source": [
    "We now look at the results of throwing in all terms and using Lasso regression."
   ]
  },
  {
   "cell_type": "code",
   "execution_count": 1,
   "metadata": {},
   "outputs": [],
   "source": [
    "import pandas as pd\n",
    "import numpy as np\n",
    "import matplotlib.pyplot as plt\n",
    "%matplotlib inline\n",
    "\n",
    "from sklearn.model_selection import train_test_split, cross_val_score\n",
    "from sklearn.preprocessing import StandardScaler\n",
    "from sklearn.linear_model import LassoCV\n",
    "import patsy\n",
    "from sklearn.metrics import mean_squared_error\n",
    "from functools import reduce\n",
    "\n",
    "import pickle\n",
    "\n",
    "np.random.seed(1)"
   ]
  },
  {
   "cell_type": "code",
   "execution_count": 2,
   "metadata": {},
   "outputs": [],
   "source": [
    "fileObj = open('./pickles/housingDF.pkl', 'rb')\n",
    "housing = pickle.load(fileObj)\n",
    "fileObj.close()"
   ]
  },
  {
   "cell_type": "markdown",
   "metadata": {},
   "source": [
    "The predictors of this model will simply be every column and dummy applicable."
   ]
  },
  {
   "cell_type": "code",
   "execution_count": 3,
   "metadata": {},
   "outputs": [],
   "source": [
    "terms = reduce((lambda x,y: x + ' + ' + y),housing.drop('SalePrice', axis=1).columns)\n",
    "formula = f'SalePrice ~ {terms} - 1'\n",
    "y, x = patsy.dmatrices(formula, housing)\n",
    "x = pd.DataFrame(x, columns=x.design_info.column_names)"
   ]
  },
  {
   "cell_type": "code",
   "execution_count": 4,
   "metadata": {},
   "outputs": [],
   "source": [
    "model = LassoCV(n_alphas=100, cv=10)\n",
    "xtrain, xtest, ytrain, ytest = train_test_split(x, y, test_size=0.3)\n",
    "\n",
    "scaler = StandardScaler()\n",
    "xtrain = scaler.fit_transform(xtrain)\n",
    "xtest = scaler.transform(xtest)\n",
    "ytrain = ytrain.ravel()\n",
    "ytest = ytest.ravel()"
   ]
  },
  {
   "cell_type": "code",
   "execution_count": 5,
   "metadata": {},
   "outputs": [
    {
     "name": "stdout",
     "output_type": "stream",
     "text": [
      "The model's R^2 score is 0.9483310354370716 on the training data, 0.9102442274298483 on the test data.\n"
     ]
    }
   ],
   "source": [
    "model.fit(xtrain, ytrain)\n",
    "print(f'The model\\'s R^2 score is {model.score(xtrain, ytrain)} on the training data, {model.score(xtest, ytest)} on the test data.')"
   ]
  },
  {
   "cell_type": "code",
   "execution_count": 6,
   "metadata": {},
   "outputs": [
    {
     "data": {
      "text/plain": [
       "24327.577673458913"
      ]
     },
     "execution_count": 6,
     "metadata": {},
     "output_type": "execute_result"
    }
   ],
   "source": [
    "mean_squared_error(ytest, model.predict(xtest))**0.5"
   ]
  },
  {
   "cell_type": "markdown",
   "metadata": {},
   "source": [
    "This model performs much better, having access to more information.  We can confirm some of the more important terms here."
   ]
  },
  {
   "cell_type": "code",
   "execution_count": 7,
   "metadata": {},
   "outputs": [
    {
     "data": {
      "text/plain": [
       "GrLivArea                  25940.178969\n",
       "ExterQual[T.TA]            10672.837772\n",
       "OverallQual                10578.671001\n",
       "YearBuilt                   9859.740276\n",
       "ExterQual[T.Gd]             9240.926980\n",
       "KitchenQual[T.TA]           8601.127682\n",
       "KitchenQual[T.Gd]           7534.185807\n",
       "TotalBsmtSF                 7419.920247\n",
       "BsmtFinSF1                  6740.300765\n",
       "Neighborhood[T.NridgHt]     6193.190125\n",
       "BsmtQual[T.Ex]              5201.686593\n",
       "OverallCond                 5189.521216\n",
       "GarageArea                  4971.618121\n",
       "GarageQual[T.Ex]            4769.199026\n",
       "Functional[T.Typ]           4639.336526\n",
       "LotArea                     4584.772201\n",
       "SaleType[T.New]             4429.732539\n",
       "Neighborhood[T.StoneBr]     4133.594737\n",
       "MasVnrArea                  4063.305170\n",
       "Neighborhood[T.NoRidge]     3821.009567\n",
       "dtype: float64"
      ]
     },
     "execution_count": 7,
     "metadata": {},
     "output_type": "execute_result"
    }
   ],
   "source": [
    "pd.Series(model.coef_, index=x.columns).abs().sort_values(ascending=False)[:20]"
   ]
  },
  {
   "cell_type": "code",
   "execution_count": 8,
   "metadata": {},
   "outputs": [
    {
     "name": "stdout",
     "output_type": "stream",
     "text": [
      "With 10 folds, the R^2 score is 0.9240048754482115 +- 0.015304989109232458\n"
     ]
    }
   ],
   "source": [
    "scores = cross_val_score(model, xtrain, ytrain.ravel(), cv=10)\n",
    "print(f'With 10 folds, the R^2 score is {np.mean(scores)} +- {np.std(scores)}')"
   ]
  },
  {
   "cell_type": "code",
   "execution_count": 9,
   "metadata": {},
   "outputs": [
    {
     "data": {
      "image/png": "[encoded data removed]",
      "text/plain": [
       "<Figure size 432x288 with 1 Axes>"
      ]
     },
     "metadata": {},
     "output_type": "display_data"
    }
   ],
   "source": [
    "plt.scatter(model.predict(xtest), ytest);\n",
    "plt.title('Predicted Price versus Actual Price')\n",
    "plt.plot((0,max(model.predict(xtest))), (0, max(model.predict(xtest))), linestyle='dashed', color='k')\n",
    "plt.ylabel('Actual Price')\n",
    "plt.xlabel('Predicted Price');"
   ]
  },
  {
   "cell_type": "markdown",
   "metadata": {},
   "source": [
    "There is some information in the higher end houses that we are not capturing.  We can try and see if adding interactions I think are relevant might improve the score."
   ]
  },
  {
   "cell_type": "code",
   "execution_count": 10,
   "metadata": {},
   "outputs": [],
   "source": [
    "interactions = 'BsmtFinSF1:BsmtFinType1 + GrLivArea:OverallQual + GrLivArea:OverallQual:ExterQual'\n",
    "formula = f'SalePrice ~ {terms} + {interactions}- 1'\n",
    "y, x = patsy.dmatrices(formula, housing)\n",
    "x = pd.DataFrame(x, columns=x.design_info.column_names)"
   ]
  },
  {
   "cell_type": "code",
   "execution_count": 11,
   "metadata": {},
   "outputs": [],
   "source": [
    "model = LassoCV(n_alphas=100, cv=10)\n",
    "xtrain, xtest, ytrain, ytest = train_test_split(x, y, test_size=0.3)\n",
    "\n",
    "scaler = StandardScaler()\n",
    "xtrain = scaler.fit_transform(xtrain)\n",
    "xtest = scaler.transform(xtest)"
   ]
  },
  {
   "cell_type": "code",
   "execution_count": 12,
   "metadata": {},
   "outputs": [
    {
     "name": "stdout",
     "output_type": "stream",
     "text": [
      "The model's R^2 score is 0.9461773207283232 on the training data, 0.9381332649628902 on the test data.\n"
     ]
    }
   ],
   "source": [
    "model.fit(xtrain, ytrain.ravel())\n",
    "print(f'The model\\'s R^2 score is {model.score(xtrain, ytrain)} on the training data, {model.score(xtest, ytest)} on the test data.')"
   ]
  },
  {
   "cell_type": "code",
   "execution_count": 13,
   "metadata": {},
   "outputs": [
    {
     "data": {
      "text/plain": [
       "20399.939731875224"
      ]
     },
     "execution_count": 13,
     "metadata": {},
     "output_type": "execute_result"
    }
   ],
   "source": [
    "mean_squared_error(ytest, model.predict(xtest))**0.5"
   ]
  },
  {
   "cell_type": "code",
   "execution_count": 14,
   "metadata": {},
   "outputs": [
    {
     "name": "stdout",
     "output_type": "stream",
     "text": [
      "With 10 folds, the R^2 score is 0.9278095934935605 +- 0.019374268694359327\n"
     ]
    }
   ],
   "source": [
    "scores = cross_val_score(model, xtrain, ytrain.ravel(), cv=10)\n",
    "print(f'With 10 folds, the R^2 score is {np.mean(scores)} +- {np.std(scores)}')"
   ]
  },
  {
   "cell_type": "markdown",
   "metadata": {},
   "source": [
    "No change on a scale we would care about.  The dominant term is quality square footage, and external quality adds and additional effect, as advertised."
   ]
  },
  {
   "cell_type": "code",
   "execution_count": 15,
   "metadata": {},
   "outputs": [
    {
     "data": {
      "text/html": [
       "<div>\n",
       "<style scoped>\n",
       "    .dataframe tbody tr th:only-of-type {\n",
       "        vertical-align: middle;\n",
       "    }\n",
       "\n",
       "    .dataframe tbody tr th {\n",
       "        vertical-align: top;\n",
       "    }\n",
       "\n",
       "    .dataframe thead th {\n",
       "        text-align: right;\n",
       "    }\n",
       "</style>\n",
       "<table border=\"1\" class=\"dataframe\">\n",
       "  <thead>\n",
       "    <tr style=\"text-align: right;\">\n",
       "      <th></th>\n",
       "      <th>Weight</th>\n",
       "    </tr>\n",
       "  </thead>\n",
       "  <tbody>\n",
       "    <tr>\n",
       "      <th>GrLivArea:OverallQual</th>\n",
       "      <td>35592.045314</td>\n",
       "    </tr>\n",
       "    <tr>\n",
       "      <th>TotalBsmtSF</th>\n",
       "      <td>7666.256214</td>\n",
       "    </tr>\n",
       "    <tr>\n",
       "      <th>YearBuilt</th>\n",
       "      <td>7588.752040</td>\n",
       "    </tr>\n",
       "    <tr>\n",
       "      <th>BsmtFinSF1:BsmtFinType1[T.GLQ]</th>\n",
       "      <td>7577.062282</td>\n",
       "    </tr>\n",
       "    <tr>\n",
       "      <th>OverallCond</th>\n",
       "      <td>5616.697915</td>\n",
       "    </tr>\n",
       "    <tr>\n",
       "      <th>LotArea</th>\n",
       "      <td>5327.320570</td>\n",
       "    </tr>\n",
       "    <tr>\n",
       "      <th>BsmtQual[T.Ex]</th>\n",
       "      <td>4491.753706</td>\n",
       "    </tr>\n",
       "    <tr>\n",
       "      <th>Neighborhood[T.NridgHt]</th>\n",
       "      <td>4402.241909</td>\n",
       "    </tr>\n",
       "    <tr>\n",
       "      <th>SaleType[T.New]</th>\n",
       "      <td>4083.364453</td>\n",
       "    </tr>\n",
       "    <tr>\n",
       "      <th>GrLivArea</th>\n",
       "      <td>4040.326981</td>\n",
       "    </tr>\n",
       "  </tbody>\n",
       "</table>\n",
       "</div>"
      ],
      "text/plain": [
       "                                      Weight\n",
       "GrLivArea:OverallQual           35592.045314\n",
       "TotalBsmtSF                      7666.256214\n",
       "YearBuilt                        7588.752040\n",
       "BsmtFinSF1:BsmtFinType1[T.GLQ]   7577.062282\n",
       "OverallCond                      5616.697915\n",
       "LotArea                          5327.320570\n",
       "BsmtQual[T.Ex]                   4491.753706\n",
       "Neighborhood[T.NridgHt]          4402.241909\n",
       "SaleType[T.New]                  4083.364453\n",
       "GrLivArea                        4040.326981"
      ]
     },
     "execution_count": 15,
     "metadata": {},
     "output_type": "execute_result"
    }
   ],
   "source": [
    "coefs = pd.DataFrame(model.coef_, index=x.columns, columns=['Weight']).sort_values(by='Weight', ascending=False)\n",
    "coefs.abs().head(10)"
   ]
  },
  {
   "cell_type": "code",
   "execution_count": 16,
   "metadata": {},
   "outputs": [
    {
     "data": {
      "image/png": "[encoded data removed]",
      "text/plain": [
       "<Figure size 432x288 with 1 Axes>"
      ]
     },
     "metadata": {},
     "output_type": "display_data"
    }
   ],
   "source": [
    "plt.scatter(model.predict(xtest), ytest);\n",
    "plt.title('Predicted Price versus Actual Price (with Interactions)')\n",
    "plt.plot((0,max(ytest)), (0, max(ytest)), linestyle='dashed', color='k')\n",
    "plt.ylabel('Actual Price')\n",
    "plt.xlabel('Predicted Price');"
   ]
  },
  {
   "cell_type": "markdown",
   "metadata": {},
   "source": [
    "At first glance, these predictions look closer.  In this sample, though, we did not have the nearly $600,000 houses in our test data, so it would not immediatley be fair to say that we would be prepared to predict the price of that house.  Looking to see if we were at least able to fit to it in our training data,"
   ]
  },
  {
   "cell_type": "code",
   "execution_count": 17,
   "metadata": {},
   "outputs": [],
   "source": [
    "extremes = housing.loc[housing.SalePrice>590000,:]\n",
    "extreme_x = xtrain[(ytrain>590000)[:,0]]\n",
    "extreme_y = ytrain[ytrain>590000]\n",
    "errors = extreme_y - model.predict(extreme_x)"
   ]
  },
  {
   "cell_type": "code",
   "execution_count": 18,
   "metadata": {},
   "outputs": [
    {
     "name": "stdout",
     "output_type": "stream",
     "text": [
      "The extremes are still greater by 132696.72359514574 and 82960.29351035785\n"
     ]
    }
   ],
   "source": [
    "print(f'The extremes are still greater by {errors[0]} and {errors[1]}')"
   ]
  },
  {
   "cell_type": "markdown",
   "metadata": {},
   "source": [
    "We go ahead in submitting this model for kaggle."
   ]
  },
  {
   "cell_type": "code",
   "execution_count": 19,
   "metadata": {},
   "outputs": [],
   "source": [
    "fileFormula = open('./pickles/formula.pkl', 'wb')\n",
    "pickle.dump(formula, fileFormula)\n",
    "fileFormula.close()"
   ]
  },
  {
   "cell_type": "code",
   "execution_count": 20,
   "metadata": {},
   "outputs": [],
   "source": [
    "fileScaler = open('./pickles/scaler.pkl', 'wb')\n",
    "pickle.dump(scaler, fileScaler)\n",
    "fileScaler.close()"
   ]
  },
  {
   "cell_type": "code",
   "execution_count": 21,
   "metadata": {},
   "outputs": [],
   "source": [
    "fileModel = open('./pickles/model.pkl', 'wb')\n",
    "pickle.dump(model, fileModel)\n",
    "fileModel.close()"
   ]
  },
  {
   "cell_type": "code",
   "execution_count": 22,
   "metadata": {},
   "outputs": [],
   "source": [
    "fileColumns = open('./pickles/columns.pkl', 'wb')\n",
    "pickle.dump(x.columns, fileColumns)\n",
    "fileColumns.close()"
   ]
  }
 ],
 "metadata": {
  "kernelspec": {
   "display_name": "Python 3",
   "language": "python",
   "name": "python3"
  },
  "language_info": {
   "codemirror_mode": {
    "name": "ipython",
    "version": 3
   },
   "file_extension": ".py",
   "mimetype": "text/x-python",
   "name": "python",
   "nbconvert_exporter": "python",
   "pygments_lexer": "ipython3",
   "version": "3.6.5"
  }
 },
 "nbformat": 4,
 "nbformat_minor": 2
}
