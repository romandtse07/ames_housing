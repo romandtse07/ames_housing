{
 "cells": [
  {
   "cell_type": "markdown",
   "metadata": {},
   "source": [
    "# Aimes, Iowa Housing Data: Preprocessing and Model Fitting (Intuitive Interactions, Linear Regression)"
   ]
  },
  {
   "cell_type": "markdown",
   "metadata": {},
   "source": [
    "In this notebook, we process our data further before fitting it into a model.  The data is split into training and testing sets, scaled and fit.  Predictors are guessed through previous EDA and fitting more area variables, though these are admittedly guessed toward.  We also note that there was skew in the distributions, but a linear regression is used in this manner to interpret large scale trends."
   ]
  },
  {
   "cell_type": "code",
   "execution_count": 1,
   "metadata": {},
   "outputs": [],
   "source": [
    "import pandas as pd\n",
    "import numpy as np\n",
    "\n",
    "from sklearn.model_selection import train_test_split, cross_val_score\n",
    "from sklearn.preprocessing import StandardScaler\n",
    "from sklearn.linear_model import LinearRegression, LassoCV\n",
    "import patsy\n",
    "from sklearn.metrics import mean_squared_error\n",
    "\n",
    "import pickle\n",
    "from functools import reduce\n",
    "from itertools import combinations\n",
    "np.random.seed(1)"
   ]
  },
  {
   "cell_type": "code",
   "execution_count": 2,
   "metadata": {},
   "outputs": [],
   "source": [
    "fileObj = open('./pickles/housingDF2.pkl', 'rb')\n",
    "housing = pickle.load(fileObj)\n",
    "fileObj.close()"
   ]
  },
  {
   "cell_type": "markdown",
   "metadata": {},
   "source": [
    "In this notebook, we further explore modelling on a minimal set of interactions.  Lot frontage may have had a more obvious interaction with lot configuration, but these were discarded earlier due to missing information.  Imputation may have had biased results."
   ]
  },
  {
   "cell_type": "code",
   "execution_count": null,
   "metadata": {},
   "outputs": [],
   "source": []
  },
  {
   "cell_type": "code",
   "execution_count": 3,
   "metadata": {},
   "outputs": [],
   "source": [
    "areas = housing.loc[:,housing.columns.map(lambda name: 'SF' in name or 'Area' in name or 'Porch' in name)].columns\n",
    "quals = housing.loc[:,housing.columns.map(lambda name: 'Qual' in name or 'QC' in name)].columns\n",
    "types = housing.loc[:,housing.columns.map(lambda name: 'Type' in name)].columns"
   ]
  },
  {
   "cell_type": "code",
   "execution_count": 4,
   "metadata": {},
   "outputs": [],
   "source": [
    "area_zero = []\n",
    "for area in areas:\n",
    "    housing[area + 'HasZeros'] = housing[area].map(lambda x: int(x>0))\n",
    "    area_zero.append(area+'HasZeros')"
   ]
  },
  {
   "cell_type": "code",
   "execution_count": 5,
   "metadata": {},
   "outputs": [],
   "source": [
    "area_splits = zip(areas, area_zero)"
   ]
  },
  {
   "cell_type": "code",
   "execution_count": 6,
   "metadata": {},
   "outputs": [],
   "source": [
    "area_strings = []\n",
    "for row in list(area_splits):\n",
    "    area_strings.append(row[0] + ':' + row[1])"
   ]
  },
  {
   "cell_type": "code",
   "execution_count": 7,
   "metadata": {},
   "outputs": [],
   "source": [
    "area_strings = reduce((lambda x,y: x + ' + ' + y), area_strings)"
   ]
  },
  {
   "cell_type": "code",
   "execution_count": 8,
   "metadata": {},
   "outputs": [],
   "source": [
    "areas = reduce((lambda x,y: x + ' + ' + y), areas)\n",
    "quals = reduce((lambda x,y: x + ' + ' + y), quals)"
   ]
  },
  {
   "cell_type": "code",
   "execution_count": 9,
   "metadata": {},
   "outputs": [],
   "source": [
    "type_combos = list(combinations(types,2))"
   ]
  },
  {
   "cell_type": "code",
   "execution_count": 10,
   "metadata": {},
   "outputs": [],
   "source": [
    "type_strings = []\n",
    "for combo in type_combos:\n",
    "    type_strings.append(combo[0] + ':' + combo[1])\n",
    "    \n",
    "type_strings = reduce((lambda x,y: x + ' + ' + y), type_strings)"
   ]
  },
  {
   "cell_type": "code",
   "execution_count": 11,
   "metadata": {},
   "outputs": [],
   "source": [
    "terms = reduce((lambda x,y: x + ' + ' + y),housing.drop(['SalePrice'], axis=1).columns)\n",
    "interactions = 'TotalBsmtSF:BsmtExposure + LotArea:LotConfig + GarageArea:GarageFinish + OverallQual:GrLivArea'\n",
    "formula = f'SalePrice ~ {terms} + ({area_strings}):({quals}) - 1'\n",
    "y, x = patsy.dmatrices(formula, housing)\n",
    "x = pd.DataFrame(x, columns=x.design_info.column_names)"
   ]
  },
  {
   "cell_type": "code",
   "execution_count": 59,
   "metadata": {},
   "outputs": [],
   "source": [
    "model = LinearRegression()\n",
    "xtrain, xtest, ytrain, ytest = train_test_split(x, y, test_size=0.7, shuffle=True)\n",
    "\n",
    "#scaler = StandardScaler()\n",
    "#xtrain = scaler.fit_transform(xtrain)\n",
    "#xtest = scaler.transform(xtest)"
   ]
  },
  {
   "cell_type": "code",
   "execution_count": 16,
   "metadata": {},
   "outputs": [],
   "source": [
    "model = LassoCV()\n",
    "xtrain, xtest, ytrain, ytest = train_test_split(x, y, test_size=0.7)\n",
    "\n",
    "scaler = StandardScaler()\n",
    "xtrain = scaler.fit_transform(xtrain)\n",
    "xtest = scaler.transform(xtest)\n",
    "\n",
    "#ytrain = np.log(ytrain)[:,0]\n",
    "#ytest = np.log(ytest)[:,0]"
   ]
  },
  {
   "cell_type": "code",
   "execution_count": 17,
   "metadata": {},
   "outputs": [
    {
     "name": "stderr",
     "output_type": "stream",
     "text": [
      "/anaconda3/lib/python3.6/site-packages/sklearn/linear_model/coordinate_descent.py:1094: DataConversionWarning: A column-vector y was passed when a 1d array was expected. Please change the shape of y to (n_samples, ), for example using ravel().\n",
      "  y = column_or_1d(y, warn=True)\n"
     ]
    },
    {
     "name": "stdout",
     "output_type": "stream",
     "text": [
      "The model's R^2 score is 0.9625461283132662 on the training data, 0.7605423106936764 on the test data.\n"
     ]
    }
   ],
   "source": [
    "model.fit(xtrain, ytrain)\n",
    "print(f'The model\\'s R^2 score is {model.score(xtrain, ytrain)} on the training data, {model.score(xtest, ytest)} on the test data.')"
   ]
  },
  {
   "cell_type": "code",
   "execution_count": 18,
   "metadata": {},
   "outputs": [
    {
     "data": {
      "text/plain": [
       "38300.79759569337"
      ]
     },
     "execution_count": 18,
     "metadata": {},
     "output_type": "execute_result"
    }
   ],
   "source": [
    "mean_squared_error(ytest, model.predict(xtest))**0.5"
   ]
  },
  {
   "cell_type": "markdown",
   "metadata": {},
   "source": [
    "This model scores somewhat consistently in cross validation, and the largest weight is from quality area(OverallQual:GrLivArea), as promised.  We see that garage area has a large negative coefficient for garages of type 0(those that were listed as having no garage) to conform to the data, but making no sense if we try to infer a relationship from this."
   ]
  },
  {
   "cell_type": "code",
   "execution_count": 15,
   "metadata": {},
   "outputs": [
    {
     "data": {
      "text/plain": [
       "GrLivArea:GrLivAreaHasZeros:OverallQual                21408.607472\n",
       "GrLivArea                                              10837.493232\n",
       "TotalBsmtSF:TotalBsmtSFHasZeros:OverallQual             8531.703669\n",
       "GarageArea:GarageAreaHasZeros:OverallQual               7749.719090\n",
       "YearBuilt                                               7189.550858\n",
       "BsmtFinSF1:BsmtFinSF1HasZeros:OverallQual               6894.840921\n",
       "LotArea:LotAreaHasZeros:OverallQual                     5382.135473\n",
       "BsmtFinSF2:BsmtFinSF2HasZeros:BsmtQual[T.Ex]            4467.328577\n",
       "OverallCond                                             4278.247311\n",
       "GrLivArea:GrLivAreaHasZeros:BsmtQual[T.Ex]              3795.696670\n",
       "TotalBsmtSF:TotalBsmtSFHasZeros:ExterQual[Ex]           3509.168405\n",
       "LotArea:LotAreaHasZeros:ExterQual[Ex]                   3221.328573\n",
       "Exterior1st[T.BrkFace]                                  2908.289059\n",
       "MasVnrArea:MasVnrAreaHasZeros:ExterQual[Ex]             2611.688597\n",
       "Functional[T.Typ]                                       2135.402128\n",
       "Neighborhood[T.NridgHt]                                 2037.746116\n",
       "Neighborhood[T.Crawfor]                                 1999.197507\n",
       "BsmtFinSF1:BsmtFinSF1HasZeros:ExterQual[Gd]             1978.360344\n",
       "Fireplaces                                              1917.756273\n",
       "ScreenPorch:ScreenPorchHasZeros:ExterQual[Gd]           1877.016580\n",
       "Condition1[T.Norm]                                      1830.745061\n",
       "Neighborhood[T.GrnHill]                                 1804.485380\n",
       "SaleType[T.New]                                         1675.081235\n",
       "MasVnrArea:MasVnrAreaHasZeros:GarageQual[T.Gd]          1619.496940\n",
       "Neighborhood[T.Somerst]                                 1601.160160\n",
       "FireplaceQu[T.Ex]                                       1551.520866\n",
       "BsmtExposure[T.Gd]                                      1526.559032\n",
       "LandContour[T.HLS]                                      1484.878962\n",
       "YearRemodAdd                                            1362.369430\n",
       "SaleType[T.Con]                                         1263.817016\n",
       "                                                           ...     \n",
       "LowQualFinSF:LowQualFinSFHasZeros:KitchenQual[T.Gd]     -297.123113\n",
       "BsmtFinType2[T.BLQ]                                     -308.107082\n",
       "SecondFlrSF:SecondFlrSFHasZeros:GarageQual[T.Po]        -312.150299\n",
       "BldgType[T.TwnhsE]                                      -316.489602\n",
       "SecondFlrSF:SecondFlrSFHasZeros:GarageQual[T.Fa]        -323.612951\n",
       "Neighborhood[T.NWAmes]                                  -343.880999\n",
       "HouseStyle[T.2.5Fin]                                    -416.462412\n",
       "MasVnrType[T.BrkCmn]                                    -498.914895\n",
       "GrLivArea:GrLivAreaHasZeros:KitchenQual[T.TA]           -508.119176\n",
       "Condition1[T.RRNn]                                      -531.857353\n",
       "LowQualFinSF:LowQualFinSFHasZeros:ExterQual[T.TA]       -558.206343\n",
       "RoofMatl[T.WdShake]                                     -567.879008\n",
       "GarageType[T.CarPort]                                   -581.413710\n",
       "GrLivArea:GrLivAreaHasZeros:KitchenQual[T.Fa]           -589.609503\n",
       "BsmtFinType1[T.Unf]                                     -623.655216\n",
       "FireplaceQu[T.Fa]                                       -631.171898\n",
       "MSZoning[T.C (all)]                                     -657.117508\n",
       "Exterior1st[T.BrkComm]                                  -680.041446\n",
       "GarageType[T.2Types]                                    -716.057347\n",
       "RoofMatl[T.Tar&Grv]                                     -717.161884\n",
       "YrSold[T.2009]                                          -727.628323\n",
       "GarageArea:GarageAreaHasZeros:KitchenQual[T.Fa]         -745.039503\n",
       "BsmtFinSF1:BsmtFinSF1HasZeros:KitchenQual[T.TA]         -831.547478\n",
       "Functional[T.Sev]                                       -925.033086\n",
       "SecondFlrSF:SecondFlrSFHasZeros:HeatingQC[T.TA]        -1183.209549\n",
       "GrLivArea:GrLivAreaHasZeros:HeatingQC[T.TA]            -1319.260937\n",
       "KitchenAbvGr                                           -1843.079814\n",
       "TotalBsmtSF:TotalBsmtSFHasZeros:KitchenQual[T.TA]      -1987.592279\n",
       "MSSubClass[160]                                        -2173.391849\n",
       "MSZoning[T.RM]                                         -2249.611339\n",
       "Length: 724, dtype: float64"
      ]
     },
     "execution_count": 15,
     "metadata": {},
     "output_type": "execute_result"
    }
   ],
   "source": [
    "pd.Series(model.coef_, index=x.columns).sort_values(ascending=False)"
   ]
  },
  {
   "cell_type": "code",
   "execution_count": 77,
   "metadata": {},
   "outputs": [
    {
     "name": "stdout",
     "output_type": "stream",
     "text": [
      "With 10 folds, the R^2 score is 0.9230054925190355 +- 0.016450176283352044\n"
     ]
    }
   ],
   "source": [
    "scores = cross_val_score(model, xtrain, ytrain.ravel(), cv=10)\n",
    "print(f'With 10 folds, the R^2 score is {np.mean(scores)} +- {np.std(scores)}')"
   ]
  },
  {
   "cell_type": "markdown",
   "metadata": {},
   "source": [
    "This may be just by virtue of poorly choosing parameters: in fact, we get similar results by applying a linear combination of overall quality and living area rather than the product."
   ]
  },
  {
   "cell_type": "code",
   "execution_count": 9,
   "metadata": {},
   "outputs": [],
   "source": [
    "interactions = 'TotalBsmtSF:BsmtExposure + LotArea:LotConfig + GarageArea:GarageFinish + OverallQual + GrLivArea'\n",
    "formula = f'SalePrice ~ {interactions} - 1'\n",
    "y, x = patsy.dmatrices(formula, housing)\n",
    "x = pd.DataFrame(x, columns=x.design_info.column_names)"
   ]
  },
  {
   "cell_type": "code",
   "execution_count": 10,
   "metadata": {},
   "outputs": [],
   "source": [
    "model = LinearRegression()\n",
    "xtrain, xtest, ytrain, ytest = train_test_split(x, y, test_size=0.7, shuffle=True)\n",
    "\n",
    "scaler = StandardScaler()\n",
    "xtrain = scaler.fit_transform(xtrain)\n",
    "xtest = scaler.transform(xtest)"
   ]
  },
  {
   "cell_type": "code",
   "execution_count": 11,
   "metadata": {},
   "outputs": [
    {
     "name": "stdout",
     "output_type": "stream",
     "text": [
      "The model's R^2 score is 0.8686897681690234 on the training data, 0.8430454758047368 on the test data.\n"
     ]
    }
   ],
   "source": [
    "model.fit(xtrain, ytrain)\n",
    "print(f'The model\\'s R^2 score is {model.score(xtrain, ytrain)} on the training data, {model.score(xtest, ytest)} on the test data.')"
   ]
  },
  {
   "cell_type": "code",
   "execution_count": 12,
   "metadata": {},
   "outputs": [
    {
     "name": "stdout",
     "output_type": "stream",
     "text": [
      "With 10 folds, the R^2 score is 0.8518301924838829 +- 0.030771909533508765\n"
     ]
    }
   ],
   "source": [
    "scores = cross_val_score(model, xtrain, ytrain.ravel(), cv=10)\n",
    "print(f'With 10 folds, the R^2 score is {np.mean(scores)} +- {np.std(scores)}')"
   ]
  },
  {
   "cell_type": "markdown",
   "metadata": {},
   "source": [
    "Rather than guessing for features, we should automate the process.  We first try this using a Lasso regression model."
   ]
  }
 ],
 "metadata": {
  "kernelspec": {
   "display_name": "Python 3",
   "language": "python",
   "name": "python3"
  },
  "language_info": {
   "codemirror_mode": {
    "name": "ipython",
    "version": 3
   },
   "file_extension": ".py",
   "mimetype": "text/x-python",
   "name": "python",
   "nbconvert_exporter": "python",
   "pygments_lexer": "ipython3",
   "version": "3.6.5"
  }
 },
 "nbformat": 4,
 "nbformat_minor": 2
}
