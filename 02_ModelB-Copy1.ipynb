{
 "cells": [
  {
   "cell_type": "markdown",
   "metadata": {},
   "source": [
    "# Aimes, Iowa Housing Data: Preprocessing, Model Fitting and Analysis (All Terms, Lasso Regression)"
   ]
  },
  {
   "cell_type": "markdown",
   "metadata": {},
   "source": [
    "We now look at the results of throwing in all terms and using Lasso regression."
   ]
  },
  {
   "cell_type": "code",
   "execution_count": 1156,
   "metadata": {},
   "outputs": [],
   "source": [
    "import pandas as pd\n",
    "import numpy as np\n",
    "import matplotlib.pyplot as plt\n",
    "%matplotlib inline\n",
    "\n",
    "from sklearn.model_selection import train_test_split, cross_val_score\n",
    "from sklearn.preprocessing import StandardScaler\n",
    "from sklearn.linear_model import LassoCV, RidgeCV, Lasso, Ridge, LinearRegression\n",
    "from sklearn.feature_selection import SelectPercentile, f_regression\n",
    "from sklearn.decomposition import PCA\n",
    "import patsy\n",
    "from sklearn.metrics import mean_squared_error\n",
    "from functools import reduce\n",
    "\n",
    "import pickle\n",
    "from itertools import combinations\n",
    "\n",
    "np.random.seed(1)"
   ]
  },
  {
   "cell_type": "code",
   "execution_count": 1061,
   "metadata": {},
   "outputs": [],
   "source": [
    "fileObj = open('./pickles/housingDF.pkl', 'rb')\n",
    "housing = pickle.load(fileObj)\n",
    "fileObj.close()"
   ]
  },
  {
   "cell_type": "code",
   "execution_count": 1062,
   "metadata": {},
   "outputs": [],
   "source": [
    "housing = housing.query('SalePrice < 570000')"
   ]
  },
  {
   "cell_type": "code",
   "execution_count": 1063,
   "metadata": {},
   "outputs": [],
   "source": [
    "areas = housing.loc[:,housing.columns.map(lambda name: 'SF' in name or 'Area' in name)].columns\n",
    "quals = housing.loc[:,housing.columns.map(lambda name: 'Qual' in name)].columns\n",
    "types = housing.loc[:,housing.columns.map(lambda name: 'Type' in name or 'MS' in name)].columns"
   ]
  },
  {
   "cell_type": "code",
   "execution_count": 1064,
   "metadata": {},
   "outputs": [],
   "source": [
    "areas = reduce((lambda x,y: x + ' + ' + y), areas)\n",
    "quals = reduce((lambda x,y: x + ' + ' + y), quals)\n",
    "types = reduce((lambda x,y: x + ' + ' + y), types)"
   ]
  },
  {
   "cell_type": "code",
   "execution_count": 1065,
   "metadata": {},
   "outputs": [
    {
     "data": {
      "text/plain": [
       "'LotArea + MasVnrArea + BsmtFinSF1 + BsmtFinSF2 + BsmtUnfSF + TotalBsmtSF + SecondFlrSF + LowQualFinSF + GrLivArea + GarageArea + WoodDeckSF + OpenPorchSF + PoolArea'"
      ]
     },
     "execution_count": 1065,
     "metadata": {},
     "output_type": "execute_result"
    }
   ],
   "source": [
    "areas"
   ]
  },
  {
   "cell_type": "code",
   "execution_count": 1066,
   "metadata": {},
   "outputs": [],
   "source": [
    "type_combos = list(combinations(types,2))"
   ]
  },
  {
   "cell_type": "code",
   "execution_count": 1067,
   "metadata": {},
   "outputs": [],
   "source": [
    "type_strings = []\n",
    "for combo in type_combos:\n",
    "    type_strings.append(combo[0] + ':' + combo[1])\n",
    "    \n",
    "type_strings = reduce((lambda x,y: x + ' + ' + y), type_strings)"
   ]
  },
  {
   "cell_type": "code",
   "execution_count": 1068,
   "metadata": {},
   "outputs": [
    {
     "data": {
      "text/plain": [
       "'LotArea + MasVnrArea + BsmtFinSF1 + BsmtFinSF2 + BsmtUnfSF + TotalBsmtSF + SecondFlrSF + LowQualFinSF + GrLivArea + GarageArea + WoodDeckSF + OpenPorchSF + PoolArea'"
      ]
     },
     "execution_count": 1068,
     "metadata": {},
     "output_type": "execute_result"
    }
   ],
   "source": [
    "areas"
   ]
  },
  {
   "cell_type": "code",
   "execution_count": 1069,
   "metadata": {},
   "outputs": [
    {
     "data": {
      "text/plain": [
       "'OverallQual + ExterQual + BsmtQual + LowQualFinSF + KitchenQual + GarageQual'"
      ]
     },
     "execution_count": 1069,
     "metadata": {},
     "output_type": "execute_result"
    }
   ],
   "source": [
    "quals"
   ]
  },
  {
   "cell_type": "code",
   "execution_count": 1070,
   "metadata": {},
   "outputs": [
    {
     "data": {
      "text/plain": [
       "'MSSubClass + MSZoning + BldgType + MasVnrType + BsmtFinType1 + BsmtFinType2 + GarageType + SaleType'"
      ]
     },
     "execution_count": 1070,
     "metadata": {},
     "output_type": "execute_result"
    }
   ],
   "source": [
    "types"
   ]
  },
  {
   "cell_type": "code",
   "execution_count": 1071,
   "metadata": {},
   "outputs": [],
   "source": [
    "terms = reduce((lambda x,y: x + ' + ' + y),housing.drop(['SalePrice'], axis=1).columns)\n",
    "interactions = 'GrLivArea:OverallQual + GrLivArea:OverallQual:(ExterQual + Neighborhood + SaleType)'\n",
    "formula = f'SalePrice ~ {terms} + {interactions} - 1'\n",
    "y, x = patsy.dmatrices(formula, housing)\n",
    "x = pd.DataFrame(x, columns=x.design_info.column_names)"
   ]
  },
  {
   "cell_type": "code",
   "execution_count": 1144,
   "metadata": {},
   "outputs": [],
   "source": [
    "model = Lasso(alpha=400)\n",
    "xtrain, xtest, ytrain, ytest = train_test_split(x, y, test_size=0.3)\n",
    "\n",
    "scaler = StandardScaler()\n",
    "xtrain = scaler.fit_transform(xtrain)\n",
    "xtest = scaler.transform(xtest)\n",
    "\n",
    "#decomp = PCA(n_components=50)\n",
    "#xtrain = decomp.fit_transform(xtrain)\n",
    "#xtest = decomp.transform(xtest)\n",
    "#ytrain = np.log(ytrain)[:,0]\n",
    "#ytest = np.log(ytest)[:,0]"
   ]
  },
  {
   "cell_type": "code",
   "execution_count": 1145,
   "metadata": {},
   "outputs": [
    {
     "name": "stdout",
     "output_type": "stream",
     "text": [
      "The model's R^2 score is 0.9436751758169697 on the training data, 0.9443837756931359 on the test data.\n"
     ]
    }
   ],
   "source": [
    "model.fit(xtrain, ytrain)\n",
    "print(f'The model\\'s R^2 score is {model.score(xtrain, ytrain)} on the training data, {model.score(xtest, ytest)} on the test data.')"
   ]
  },
  {
   "cell_type": "code",
   "execution_count": 1146,
   "metadata": {},
   "outputs": [
    {
     "data": {
      "text/plain": [
       "18015.48773381194"
      ]
     },
     "execution_count": 1146,
     "metadata": {},
     "output_type": "execute_result"
    }
   ],
   "source": [
    "mean_squared_error(ytest, model.predict(xtest))**0.5"
   ]
  },
  {
   "cell_type": "code",
   "execution_count": 1147,
   "metadata": {},
   "outputs": [
    {
     "data": {
      "text/plain": [
       "18249.166748426727"
      ]
     },
     "execution_count": 1147,
     "metadata": {},
     "output_type": "execute_result"
    }
   ],
   "source": [
    "mean_squared_error(y, model.predict(scaler.transform(x)))**0.5"
   ]
  },
  {
   "cell_type": "code",
   "execution_count": 1148,
   "metadata": {},
   "outputs": [
    {
     "name": "stdout",
     "output_type": "stream",
     "text": [
      "With 5 folds, the RMSE is 23344.257349867654 +- 13614.265567457407\n"
     ]
    }
   ],
   "source": [
    "scores = cross_val_score(model, xtrain, ytrain.ravel(), cv=5, scoring='neg_mean_squared_error')\n",
    "print(f'With 5 folds, the RMSE is {abs(np.mean(scores))**0.5} +- {np.std(scores)**0.5}')"
   ]
  },
  {
   "cell_type": "markdown",
   "metadata": {},
   "source": [
    "No change on a scale we would care about.  The dominant term is quality square footage, and external quality adds and additional effect, as advertised."
   ]
  },
  {
   "cell_type": "code",
   "execution_count": 1149,
   "metadata": {},
   "outputs": [
    {
     "data": {
      "text/html": [
       "<div>\n",
       "<style scoped>\n",
       "    .dataframe tbody tr th:only-of-type {\n",
       "        vertical-align: middle;\n",
       "    }\n",
       "\n",
       "    .dataframe tbody tr th {\n",
       "        vertical-align: top;\n",
       "    }\n",
       "\n",
       "    .dataframe thead th {\n",
       "        text-align: right;\n",
       "    }\n",
       "</style>\n",
       "<table border=\"1\" class=\"dataframe\">\n",
       "  <thead>\n",
       "    <tr style=\"text-align: right;\">\n",
       "      <th></th>\n",
       "      <th>Weight</th>\n",
       "    </tr>\n",
       "  </thead>\n",
       "  <tbody>\n",
       "    <tr>\n",
       "      <th>GrLivArea:OverallQual</th>\n",
       "      <td>37912.322922</td>\n",
       "    </tr>\n",
       "    <tr>\n",
       "      <th>BsmtFinSF1</th>\n",
       "      <td>8546.147519</td>\n",
       "    </tr>\n",
       "    <tr>\n",
       "      <th>TotalBsmtSF</th>\n",
       "      <td>6695.799519</td>\n",
       "    </tr>\n",
       "    <tr>\n",
       "      <th>GrLivArea:OverallQual:Neighborhood[T.NridgHt]</th>\n",
       "      <td>5430.248594</td>\n",
       "    </tr>\n",
       "    <tr>\n",
       "      <th>GarageArea</th>\n",
       "      <td>5184.945865</td>\n",
       "    </tr>\n",
       "    <tr>\n",
       "      <th>GrLivArea:OverallQual:Neighborhood[T.StoneBr]</th>\n",
       "      <td>5109.446447</td>\n",
       "    </tr>\n",
       "    <tr>\n",
       "      <th>OverallCond</th>\n",
       "      <td>5041.307250</td>\n",
       "    </tr>\n",
       "    <tr>\n",
       "      <th>YearBuilt</th>\n",
       "      <td>5000.459215</td>\n",
       "    </tr>\n",
       "    <tr>\n",
       "      <th>LotArea</th>\n",
       "      <td>4814.946358</td>\n",
       "    </tr>\n",
       "    <tr>\n",
       "      <th>GrLivArea:OverallQual:SaleType[T.New]</th>\n",
       "      <td>4281.589832</td>\n",
       "    </tr>\n",
       "    <tr>\n",
       "      <th>BsmtQual[T.Ex]</th>\n",
       "      <td>4076.941933</td>\n",
       "    </tr>\n",
       "    <tr>\n",
       "      <th>BsmtExposure[T.Gd]</th>\n",
       "      <td>3234.770590</td>\n",
       "    </tr>\n",
       "    <tr>\n",
       "      <th>ScreenPorch</th>\n",
       "      <td>3047.490847</td>\n",
       "    </tr>\n",
       "    <tr>\n",
       "      <th>YearRemodAdd</th>\n",
       "      <td>2947.277676</td>\n",
       "    </tr>\n",
       "    <tr>\n",
       "      <th>Fireplaces</th>\n",
       "      <td>2805.336895</td>\n",
       "    </tr>\n",
       "    <tr>\n",
       "      <th>Functional[T.Typ]</th>\n",
       "      <td>2506.133715</td>\n",
       "    </tr>\n",
       "    <tr>\n",
       "      <th>Neighborhood[T.GrnHill]</th>\n",
       "      <td>2429.710907</td>\n",
       "    </tr>\n",
       "    <tr>\n",
       "      <th>GrLivArea:OverallQual:Neighborhood[T.NoRidge]</th>\n",
       "      <td>2155.068797</td>\n",
       "    </tr>\n",
       "    <tr>\n",
       "      <th>Exterior1st[T.BrkFace]</th>\n",
       "      <td>2079.782809</td>\n",
       "    </tr>\n",
       "    <tr>\n",
       "      <th>MSSubClass[20]</th>\n",
       "      <td>1739.726142</td>\n",
       "    </tr>\n",
       "    <tr>\n",
       "      <th>Condition1[T.Norm]</th>\n",
       "      <td>1623.319228</td>\n",
       "    </tr>\n",
       "    <tr>\n",
       "      <th>Condition1[T.PosA]</th>\n",
       "      <td>1420.878328</td>\n",
       "    </tr>\n",
       "    <tr>\n",
       "      <th>Neighborhood[T.Somerst]</th>\n",
       "      <td>1201.014775</td>\n",
       "    </tr>\n",
       "    <tr>\n",
       "      <th>BsmtFullBath</th>\n",
       "      <td>1183.018525</td>\n",
       "    </tr>\n",
       "    <tr>\n",
       "      <th>LandContour[T.HLS]</th>\n",
       "      <td>1168.298127</td>\n",
       "    </tr>\n",
       "    <tr>\n",
       "      <th>WoodDeckSF</th>\n",
       "      <td>1137.640915</td>\n",
       "    </tr>\n",
       "    <tr>\n",
       "      <th>FullBath</th>\n",
       "      <td>1134.291213</td>\n",
       "    </tr>\n",
       "    <tr>\n",
       "      <th>PavedDrive[T.Y]</th>\n",
       "      <td>1088.697931</td>\n",
       "    </tr>\n",
       "    <tr>\n",
       "      <th>BsmtFinType2[T.GLQ]</th>\n",
       "      <td>1003.889545</td>\n",
       "    </tr>\n",
       "    <tr>\n",
       "      <th>GrLivArea</th>\n",
       "      <td>973.885449</td>\n",
       "    </tr>\n",
       "    <tr>\n",
       "      <th>GrLivArea:OverallQual:SaleType[T.Con]</th>\n",
       "      <td>969.984715</td>\n",
       "    </tr>\n",
       "    <tr>\n",
       "      <th>BsmtFinType2[T.ALQ]</th>\n",
       "      <td>929.520366</td>\n",
       "    </tr>\n",
       "    <tr>\n",
       "      <th>GrLivArea:OverallQual:Neighborhood[T.Somerst]</th>\n",
       "      <td>889.602496</td>\n",
       "    </tr>\n",
       "    <tr>\n",
       "      <th>Neighborhood[T.Crawfor]</th>\n",
       "      <td>870.795003</td>\n",
       "    </tr>\n",
       "    <tr>\n",
       "      <th>Condition1[T.PosN]</th>\n",
       "      <td>854.291319</td>\n",
       "    </tr>\n",
       "    <tr>\n",
       "      <th>Foundation[T.PConc]</th>\n",
       "      <td>787.915112</td>\n",
       "    </tr>\n",
       "    <tr>\n",
       "      <th>Neighborhood[T.BrDale]</th>\n",
       "      <td>681.883708</td>\n",
       "    </tr>\n",
       "    <tr>\n",
       "      <th>MasVnrArea</th>\n",
       "      <td>656.034333</td>\n",
       "    </tr>\n",
       "    <tr>\n",
       "      <th>BsmtFinType1[T.GLQ]</th>\n",
       "      <td>606.649526</td>\n",
       "    </tr>\n",
       "    <tr>\n",
       "      <th>HalfBath</th>\n",
       "      <td>559.011299</td>\n",
       "    </tr>\n",
       "    <tr>\n",
       "      <th>FireplaceQu[T.Gd]</th>\n",
       "      <td>549.574136</td>\n",
       "    </tr>\n",
       "    <tr>\n",
       "      <th>MiscFeature[T.Othr]</th>\n",
       "      <td>525.782192</td>\n",
       "    </tr>\n",
       "    <tr>\n",
       "      <th>Neighborhood[T.BrkSide]</th>\n",
       "      <td>516.447049</td>\n",
       "    </tr>\n",
       "    <tr>\n",
       "      <th>Condition2[T.Norm]</th>\n",
       "      <td>454.588687</td>\n",
       "    </tr>\n",
       "    <tr>\n",
       "      <th>MasVnrType[T.Stone]</th>\n",
       "      <td>453.021023</td>\n",
       "    </tr>\n",
       "    <tr>\n",
       "      <th>GrLivArea:OverallQual:Neighborhood[T.GrnHill]</th>\n",
       "      <td>446.100357</td>\n",
       "    </tr>\n",
       "    <tr>\n",
       "      <th>MSSubClass[45]</th>\n",
       "      <td>402.220783</td>\n",
       "    </tr>\n",
       "    <tr>\n",
       "      <th>LotShape[T.Reg]</th>\n",
       "      <td>388.839168</td>\n",
       "    </tr>\n",
       "    <tr>\n",
       "      <th>RoofMatl[T.WdShngl]</th>\n",
       "      <td>376.094892</td>\n",
       "    </tr>\n",
       "    <tr>\n",
       "      <th>Neighborhood[T.ClearCr]</th>\n",
       "      <td>341.047570</td>\n",
       "    </tr>\n",
       "  </tbody>\n",
       "</table>\n",
       "</div>"
      ],
      "text/plain": [
       "                                                     Weight\n",
       "GrLivArea:OverallQual                          37912.322922\n",
       "BsmtFinSF1                                      8546.147519\n",
       "TotalBsmtSF                                     6695.799519\n",
       "GrLivArea:OverallQual:Neighborhood[T.NridgHt]   5430.248594\n",
       "GarageArea                                      5184.945865\n",
       "GrLivArea:OverallQual:Neighborhood[T.StoneBr]   5109.446447\n",
       "OverallCond                                     5041.307250\n",
       "YearBuilt                                       5000.459215\n",
       "LotArea                                         4814.946358\n",
       "GrLivArea:OverallQual:SaleType[T.New]           4281.589832\n",
       "BsmtQual[T.Ex]                                  4076.941933\n",
       "BsmtExposure[T.Gd]                              3234.770590\n",
       "ScreenPorch                                     3047.490847\n",
       "YearRemodAdd                                    2947.277676\n",
       "Fireplaces                                      2805.336895\n",
       "Functional[T.Typ]                               2506.133715\n",
       "Neighborhood[T.GrnHill]                         2429.710907\n",
       "GrLivArea:OverallQual:Neighborhood[T.NoRidge]   2155.068797\n",
       "Exterior1st[T.BrkFace]                          2079.782809\n",
       "MSSubClass[20]                                  1739.726142\n",
       "Condition1[T.Norm]                              1623.319228\n",
       "Condition1[T.PosA]                              1420.878328\n",
       "Neighborhood[T.Somerst]                         1201.014775\n",
       "BsmtFullBath                                    1183.018525\n",
       "LandContour[T.HLS]                              1168.298127\n",
       "WoodDeckSF                                      1137.640915\n",
       "FullBath                                        1134.291213\n",
       "PavedDrive[T.Y]                                 1088.697931\n",
       "BsmtFinType2[T.GLQ]                             1003.889545\n",
       "GrLivArea                                        973.885449\n",
       "GrLivArea:OverallQual:SaleType[T.Con]            969.984715\n",
       "BsmtFinType2[T.ALQ]                              929.520366\n",
       "GrLivArea:OverallQual:Neighborhood[T.Somerst]    889.602496\n",
       "Neighborhood[T.Crawfor]                          870.795003\n",
       "Condition1[T.PosN]                               854.291319\n",
       "Foundation[T.PConc]                              787.915112\n",
       "Neighborhood[T.BrDale]                           681.883708\n",
       "MasVnrArea                                       656.034333\n",
       "BsmtFinType1[T.GLQ]                              606.649526\n",
       "HalfBath                                         559.011299\n",
       "FireplaceQu[T.Gd]                                549.574136\n",
       "MiscFeature[T.Othr]                              525.782192\n",
       "Neighborhood[T.BrkSide]                          516.447049\n",
       "Condition2[T.Norm]                               454.588687\n",
       "MasVnrType[T.Stone]                              453.021023\n",
       "GrLivArea:OverallQual:Neighborhood[T.GrnHill]    446.100357\n",
       "MSSubClass[45]                                   402.220783\n",
       "LotShape[T.Reg]                                  388.839168\n",
       "RoofMatl[T.WdShngl]                              376.094892\n",
       "Neighborhood[T.ClearCr]                          341.047570"
      ]
     },
     "execution_count": 1149,
     "metadata": {},
     "output_type": "execute_result"
    }
   ],
   "source": [
    "coefs = pd.DataFrame(model.coef_, index=x.columns, columns=['Weight']).sort_values(by='Weight', ascending=False)\n",
    "coefs.abs().head(50)"
   ]
  },
  {
   "cell_type": "code",
   "execution_count": 1150,
   "metadata": {},
   "outputs": [
    {
     "data": {
      "image/png": "[encoded data removed]",
      "text/plain": [
       "<Figure size 432x288 with 1 Axes>"
      ]
     },
     "metadata": {},
     "output_type": "display_data"
    }
   ],
   "source": [
    "plt.scatter(model.predict(xtest), ytest);\n",
    "plt.title('Predicted Price versus Actual Price (with Interactions)')\n",
    "#plt.plot((0,max(ytest)), (0, max(ytest)), linestyle='dashed', color='k')\n",
    "plt.ylabel('Actual Price')\n",
    "plt.xlabel('Predicted Price');"
   ]
  },
  {
   "cell_type": "markdown",
   "metadata": {},
   "source": [
    "At first glance, these predictions look closer.  In this sample, though, we did not have the nearly $600,000 houses in our test data, so it would not immediatley be fair to say that we would be prepared to predict the price of that house.  Looking to see if we were at least able to fit to it in our training data,"
   ]
  },
  {
   "cell_type": "markdown",
   "metadata": {},
   "source": [
    "We go ahead in submitting this model for kaggle."
   ]
  },
  {
   "cell_type": "code",
   "execution_count": 1151,
   "metadata": {},
   "outputs": [],
   "source": [
    "name = 'lessout'"
   ]
  },
  {
   "cell_type": "code",
   "execution_count": 1152,
   "metadata": {},
   "outputs": [],
   "source": [
    "fileFormula = open('./pickles/formula'+name+'.pkl', 'wb')\n",
    "pickle.dump(formula, fileFormula)\n",
    "fileFormula.close()"
   ]
  },
  {
   "cell_type": "code",
   "execution_count": 1153,
   "metadata": {},
   "outputs": [],
   "source": [
    "fileScaler = open('./pickles/scaler'+name+'.pkl', 'wb')\n",
    "pickle.dump(scaler, fileScaler)\n",
    "fileScaler.close()"
   ]
  },
  {
   "cell_type": "code",
   "execution_count": 1154,
   "metadata": {},
   "outputs": [],
   "source": [
    "fileModel = open('./pickles/model'+name+'.pkl', 'wb')\n",
    "pickle.dump(model, fileModel)\n",
    "fileModel.close()"
   ]
  },
  {
   "cell_type": "code",
   "execution_count": 1155,
   "metadata": {},
   "outputs": [],
   "source": [
    "fileColumns = open('./pickles/columns'+name+'.pkl', 'wb')\n",
    "pickle.dump(x.columns, fileColumns)\n",
    "fileColumns.close()"
   ]
  },
  {
   "cell_type": "code",
   "execution_count": null,
   "metadata": {},
   "outputs": [],
   "source": []
  }
 ],
 "metadata": {
  "kernelspec": {
   "display_name": "Python 3",
   "language": "python",
   "name": "python3"
  },
  "language_info": {
   "codemirror_mode": {
    "name": "ipython",
    "version": 3
   },
   "file_extension": ".py",
   "mimetype": "text/x-python",
   "name": "python",
   "nbconvert_exporter": "python",
   "pygments_lexer": "ipython3",
   "version": "3.6.5"
  }
 },
 "nbformat": 4,
 "nbformat_minor": 2
}
